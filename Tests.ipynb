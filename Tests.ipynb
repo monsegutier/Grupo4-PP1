{
  "nbformat": 4,
  "nbformat_minor": 0,
  "metadata": {
    "colab": {
      "provenance": [],
      "collapsed_sections": [
        "PtXfC13dk-dv"
      ],
      "include_colab_link": true
    },
    "kernelspec": {
      "name": "python3",
      "display_name": "Python 3"
    },
    "language_info": {
      "name": "python"
    }
  },
  "cells": [
    {
      "cell_type": "markdown",
      "metadata": {
        "id": "view-in-github",
        "colab_type": "text"
      },
      "source": [
        "<a href=\"https://colab.research.google.com/github/monsegutier/Grupo4-PP1--Proyecto-ML/blob/monse/Tests.ipynb\" target=\"_parent\"><img src=\"https://colab.research.google.com/assets/colab-badge.svg\" alt=\"Open In Colab\"/></a>"
      ]
    },
    {
      "cell_type": "markdown",
      "source": [],
      "metadata": {
        "id": "7VFv4vkF_D-e"
      }
    },
    {
      "cell_type": "markdown",
      "source": [
        "\n",
        "\n",
        "# Analisis DataSet - Heart Atack\n",
        "\n",
        "\n"
      ],
      "metadata": {
        "id": "jaxXczRGZyaH"
      }
    },
    {
      "cell_type": "markdown",
      "source": [
        "## Descripcion caracteristicas"
      ],
      "metadata": {
        "id": "PtXfC13dk-dv"
      }
    },
    {
      "cell_type": "markdown",
      "source": [
        "**Aim :** predecir el resultado de un ataque cardíaco\n",
        "\n",
        "Features:\n",
        "\n",
        "**Age :** Edad del paciente\n",
        "\n",
        "**Sex :** Sexo del paciente.\n",
        "\n",
        "**cp :** tipo de dolor en el pecho:\n",
        "\n",
        "Valor 0: angina típica\n",
        "\n",
        "Valor 1: angina atípica\n",
        "\n",
        "Valor 2: dolor no anginoso\n",
        "\n",
        "Valor 3: asintomático\n",
        "\n",
        "\n",
        "**trtbps :** presión arterial en reposo (en mm Hg)\n",
        "\n",
        "**chol :** colesterol en mg/dl obtenido mediante el sensor de IMC\n",
        "\n",
        "**fbs :** (azúcar en sangre en ayunas > 120 mg/dl)\n",
        "\n",
        "1 = verdadero\n",
        "\n",
        "0 = falso\n",
        "\n",
        "**rest_ecg :** resultados electrocardiográficos en reposo:\n",
        "\n",
        "Valor 0: normal\n",
        "\n",
        "Valor 1: tener anomalía de la onda ST-T (inversiones de la onda T y/o elevación o depresión del ST > 0,05 mV)\n",
        "\n",
        "Valor 2: muestra hipertrofia ventricular izquierda probable o definitiva según los criterios de Estes\n",
        "\n",
        "**thalach :** frecuencia cardíaca máxima alcanzada.\n",
        "\n",
        "**exang :** angina inducida por el ejercicio:\n",
        "\n",
        "1 = si\n",
        "\n",
        "0 = no\n",
        "\n",
        "**oldpeak :** depresión del ST inducida por el ejercicio en relación con el reposo.\n",
        "\n",
        "Depresión del ST: un tipo de anomalía del segmento ST. El segmento ST es la parte plana e isoeléctrica del ECG y representa el intervalo entre la despolarización y la repolarización ventricular.\n",
        "\n",
        "\n",
        "**slp :** la pendiente del segmento ST del ejercicio máximo\n",
        "\n",
        "0 = sin pendiente\n",
        "\n",
        "1 = plano\n",
        "\n",
        "2 = descendente\n",
        "\n",
        "**caa :** number of major vessels (0-3)\n",
        "thall - Thalium Stress Test result ~ (0,3)\n",
        "\n",
        "**thall :** Talasemia(es un trastorno sanguíneo genético que se caracteriza por una tasa de hemoglobina más baja de lo normal.)\n",
        "\n",
        "0 = nulo\n",
        "\n",
        "1 = defecto reparado\n",
        "\n",
        "2 = normales\n",
        "\n",
        "3 = defecto reversible\n",
        "\n",
        "**output :** diagnóstico de enfermedad cardíaca (estado de enfermedad angiográfica)\n",
        "\n",
        "0: < 50% de estrechamiento del diámetro. menos posibilidades de enfermedad cardíaca\n",
        "\n",
        "1: > 50% de estrechamiento del diámetro. más posibilidades de sufrir enfermedades cardíacas"
      ],
      "metadata": {
        "id": "QPj5DoIAfIsS"
      }
    },
    {
      "cell_type": "markdown",
      "source": [
        "## Imports y carga Dataset"
      ],
      "metadata": {
        "id": "5HWfnNgPEyEn"
      }
    },
    {
      "cell_type": "code",
      "source": [
        "!pip install ydata_profiling\n",
        "import numpy as np\n",
        "import pandas as pd\n",
        "import matplotlib.pyplot as plt\n",
        "import seaborn as sns\n",
        "from scipy import stats\n",
        "import plotly.express as px\n",
        "\n",
        "\n",
        "from ydata_profiling import ProfileReport\n",
        "\n",
        "# df = pd.read_csv('/content/heart.csv')\n",
        "\n",
        "from google.colab import files\n",
        "import pandas as pd\n",
        "import io  # Importa el módulo io\n",
        "\n",
        "# Para subir archivos de la pc\n",
        "\n",
        "# # Permite a los usuarios seleccionar un archivo CSV desde su PC\n",
        "# uploaded = files.upload()\n",
        "\n",
        "# # Obtiene el nombre del archivo cargado\n",
        "# file_name = list(uploaded.keys())[0]\n",
        "\n",
        "# # Carga el archivo CSV en un DataFrame de Pandas\n",
        "# df = pd.read_csv(io.StringIO(uploaded[file_name].decode('utf-8')))\n",
        "\n",
        "# https://raw.githubusercontent.com/crlsh/datasets/main/heart.csv\n",
        "\n",
        "\n",
        "\n",
        "# Reemplaza esta URL con la URL de tu archivo CSV en GitHub\n",
        "github_url = 'https://raw.githubusercontent.com/crlsh/datasets/main/heart.csv'\n",
        "\n",
        "# Carga el archivo CSV desde la URL en un DataFrame\n",
        "df = pd.read_csv(github_url)\n",
        "\n",
        "# Info dataset :\n",
        "\n",
        "\n",
        "print(df.head)\n",
        "print(\"\")\n",
        "# columnas y tipos de datos\n",
        "print(df.columns)\n",
        "print(\"\")\n",
        "# Obtener los tipos de datos de cada columna\n",
        "print (\"nombre caracteristicas\")\n",
        "data_types = df.dtypes\n",
        "print (\"\")\n",
        "\n",
        "# Imprimir los tipos de datos\n",
        "print (\"Tipo de datos\")\n",
        "print(data_types)"
      ],
      "metadata": {
        "colab": {
          "base_uri": "https://localhost:8080/"
        },
        "id": "zEKiGSXxE-DT",
        "outputId": "8a7b0205-9d92-4843-f103-44cad3643c47"
      },
      "execution_count": 4,
      "outputs": [
        {
          "output_type": "stream",
          "name": "stdout",
          "text": [
            "Collecting ydata_profiling\n",
            "  Downloading ydata_profiling-4.5.1-py2.py3-none-any.whl (357 kB)\n",
            "\u001b[?25l     \u001b[90m━━━━━━━━━━━━━━━━━━━━━━━━━━━━━━━━━━━━━━━━\u001b[0m \u001b[32m0.0/357.3 kB\u001b[0m \u001b[31m?\u001b[0m eta \u001b[36m-:--:--\u001b[0m\r\u001b[2K     \u001b[91m━━━━━━━━\u001b[0m\u001b[90m╺\u001b[0m\u001b[90m━━━━━━━━━━━━━━━━━━━━━━━━━━━━━━━\u001b[0m \u001b[32m71.7/357.3 kB\u001b[0m \u001b[31m2.0 MB/s\u001b[0m eta \u001b[36m0:00:01\u001b[0m\r\u001b[2K     \u001b[90m━━━━━━━━━━━━━━━━━━━━━━━━━━━━━━━━━━━━━━━\u001b[0m \u001b[32m357.3/357.3 kB\u001b[0m \u001b[31m5.3 MB/s\u001b[0m eta \u001b[36m0:00:00\u001b[0m\n",
            "\u001b[?25hRequirement already satisfied: scipy<1.12,>=1.4.1 in /usr/local/lib/python3.10/dist-packages (from ydata_profiling) (1.11.3)\n",
            "Requirement already satisfied: pandas!=1.4.0,<2.1,>1.1 in /usr/local/lib/python3.10/dist-packages (from ydata_profiling) (1.5.3)\n",
            "Requirement already satisfied: matplotlib<4,>=3.2 in /usr/local/lib/python3.10/dist-packages (from ydata_profiling) (3.7.1)\n",
            "Requirement already satisfied: pydantic<2,>=1.8.1 in /usr/local/lib/python3.10/dist-packages (from ydata_profiling) (1.10.13)\n",
            "Requirement already satisfied: PyYAML<6.1,>=5.0.0 in /usr/local/lib/python3.10/dist-packages (from ydata_profiling) (6.0.1)\n",
            "Requirement already satisfied: jinja2<3.2,>=2.11.1 in /usr/local/lib/python3.10/dist-packages (from ydata_profiling) (3.1.2)\n",
            "Collecting visions[type_image_path]==0.7.5 (from ydata_profiling)\n",
            "  Downloading visions-0.7.5-py3-none-any.whl (102 kB)\n",
            "\u001b[2K     \u001b[90m━━━━━━━━━━━━━━━━━━━━━━━━━━━━━━━━━━━━━━\u001b[0m \u001b[32m102.7/102.7 kB\u001b[0m \u001b[31m11.1 MB/s\u001b[0m eta \u001b[36m0:00:00\u001b[0m\n",
            "\u001b[?25hRequirement already satisfied: numpy<1.24,>=1.16.0 in /usr/local/lib/python3.10/dist-packages (from ydata_profiling) (1.23.5)\n",
            "Collecting htmlmin==0.1.12 (from ydata_profiling)\n",
            "  Downloading htmlmin-0.1.12.tar.gz (19 kB)\n",
            "  Preparing metadata (setup.py) ... \u001b[?25l\u001b[?25hdone\n",
            "Collecting phik<0.13,>=0.11.1 (from ydata_profiling)\n",
            "  Downloading phik-0.12.3-cp310-cp310-manylinux_2_17_x86_64.manylinux2014_x86_64.whl (679 kB)\n",
            "\u001b[2K     \u001b[90m━━━━━━━━━━━━━━━━━━━━━━━━━━━━━━━━━━━━━━\u001b[0m \u001b[32m679.5/679.5 kB\u001b[0m \u001b[31m25.2 MB/s\u001b[0m eta \u001b[36m0:00:00\u001b[0m\n",
            "\u001b[?25hRequirement already satisfied: requests<3,>=2.24.0 in /usr/local/lib/python3.10/dist-packages (from ydata_profiling) (2.31.0)\n",
            "Requirement already satisfied: tqdm<5,>=4.48.2 in /usr/local/lib/python3.10/dist-packages (from ydata_profiling) (4.66.1)\n",
            "Requirement already satisfied: seaborn<0.13,>=0.10.1 in /usr/local/lib/python3.10/dist-packages (from ydata_profiling) (0.12.2)\n",
            "Collecting multimethod<2,>=1.4 (from ydata_profiling)\n",
            "  Downloading multimethod-1.10-py3-none-any.whl (9.9 kB)\n",
            "Requirement already satisfied: statsmodels<1,>=0.13.2 in /usr/local/lib/python3.10/dist-packages (from ydata_profiling) (0.14.0)\n",
            "Collecting typeguard<3,>=2.13.2 (from ydata_profiling)\n",
            "  Downloading typeguard-2.13.3-py3-none-any.whl (17 kB)\n",
            "Collecting imagehash==4.3.1 (from ydata_profiling)\n",
            "  Downloading ImageHash-4.3.1-py2.py3-none-any.whl (296 kB)\n",
            "\u001b[2K     \u001b[90m━━━━━━━━━━━━━━━━━━━━━━━━━━━━━━━━━━━━━━\u001b[0m \u001b[32m296.5/296.5 kB\u001b[0m \u001b[31m22.6 MB/s\u001b[0m eta \u001b[36m0:00:00\u001b[0m\n",
            "\u001b[?25hRequirement already satisfied: wordcloud>=1.9.1 in /usr/local/lib/python3.10/dist-packages (from ydata_profiling) (1.9.2)\n",
            "Collecting dacite>=1.8 (from ydata_profiling)\n",
            "  Downloading dacite-1.8.1-py3-none-any.whl (14 kB)\n",
            "Requirement already satisfied: PyWavelets in /usr/local/lib/python3.10/dist-packages (from imagehash==4.3.1->ydata_profiling) (1.4.1)\n",
            "Requirement already satisfied: pillow in /usr/local/lib/python3.10/dist-packages (from imagehash==4.3.1->ydata_profiling) (9.4.0)\n",
            "Requirement already satisfied: attrs>=19.3.0 in /usr/local/lib/python3.10/dist-packages (from visions[type_image_path]==0.7.5->ydata_profiling) (23.1.0)\n",
            "Requirement already satisfied: networkx>=2.4 in /usr/local/lib/python3.10/dist-packages (from visions[type_image_path]==0.7.5->ydata_profiling) (3.1)\n",
            "Collecting tangled-up-in-unicode>=0.0.4 (from visions[type_image_path]==0.7.5->ydata_profiling)\n",
            "  Downloading tangled_up_in_unicode-0.2.0-py3-none-any.whl (4.7 MB)\n",
            "\u001b[2K     \u001b[90m━━━━━━━━━━━━━━━━━━━━━━━━━━━━━━━━━━━━━━━━\u001b[0m \u001b[32m4.7/4.7 MB\u001b[0m \u001b[31m74.5 MB/s\u001b[0m eta \u001b[36m0:00:00\u001b[0m\n",
            "\u001b[?25hRequirement already satisfied: MarkupSafe>=2.0 in /usr/local/lib/python3.10/dist-packages (from jinja2<3.2,>=2.11.1->ydata_profiling) (2.1.3)\n",
            "Requirement already satisfied: contourpy>=1.0.1 in /usr/local/lib/python3.10/dist-packages (from matplotlib<4,>=3.2->ydata_profiling) (1.1.1)\n",
            "Requirement already satisfied: cycler>=0.10 in /usr/local/lib/python3.10/dist-packages (from matplotlib<4,>=3.2->ydata_profiling) (0.12.0)\n",
            "Requirement already satisfied: fonttools>=4.22.0 in /usr/local/lib/python3.10/dist-packages (from matplotlib<4,>=3.2->ydata_profiling) (4.43.0)\n",
            "Requirement already satisfied: kiwisolver>=1.0.1 in /usr/local/lib/python3.10/dist-packages (from matplotlib<4,>=3.2->ydata_profiling) (1.4.5)\n",
            "Requirement already satisfied: packaging>=20.0 in /usr/local/lib/python3.10/dist-packages (from matplotlib<4,>=3.2->ydata_profiling) (23.2)\n",
            "Requirement already satisfied: pyparsing>=2.3.1 in /usr/local/lib/python3.10/dist-packages (from matplotlib<4,>=3.2->ydata_profiling) (3.1.1)\n",
            "Requirement already satisfied: python-dateutil>=2.7 in /usr/local/lib/python3.10/dist-packages (from matplotlib<4,>=3.2->ydata_profiling) (2.8.2)\n",
            "Requirement already satisfied: pytz>=2020.1 in /usr/local/lib/python3.10/dist-packages (from pandas!=1.4.0,<2.1,>1.1->ydata_profiling) (2023.3.post1)\n",
            "Requirement already satisfied: joblib>=0.14.1 in /usr/local/lib/python3.10/dist-packages (from phik<0.13,>=0.11.1->ydata_profiling) (1.3.2)\n",
            "Requirement already satisfied: typing-extensions>=4.2.0 in /usr/local/lib/python3.10/dist-packages (from pydantic<2,>=1.8.1->ydata_profiling) (4.5.0)\n",
            "Requirement already satisfied: charset-normalizer<4,>=2 in /usr/local/lib/python3.10/dist-packages (from requests<3,>=2.24.0->ydata_profiling) (3.3.0)\n",
            "Requirement already satisfied: idna<4,>=2.5 in /usr/local/lib/python3.10/dist-packages (from requests<3,>=2.24.0->ydata_profiling) (3.4)\n",
            "Requirement already satisfied: urllib3<3,>=1.21.1 in /usr/local/lib/python3.10/dist-packages (from requests<3,>=2.24.0->ydata_profiling) (2.0.6)\n",
            "Requirement already satisfied: certifi>=2017.4.17 in /usr/local/lib/python3.10/dist-packages (from requests<3,>=2.24.0->ydata_profiling) (2023.7.22)\n",
            "Requirement already satisfied: patsy>=0.5.2 in /usr/local/lib/python3.10/dist-packages (from statsmodels<1,>=0.13.2->ydata_profiling) (0.5.3)\n",
            "Requirement already satisfied: six in /usr/local/lib/python3.10/dist-packages (from patsy>=0.5.2->statsmodels<1,>=0.13.2->ydata_profiling) (1.16.0)\n",
            "Building wheels for collected packages: htmlmin\n",
            "  Building wheel for htmlmin (setup.py) ... \u001b[?25l\u001b[?25hdone\n",
            "  Created wheel for htmlmin: filename=htmlmin-0.1.12-py3-none-any.whl size=27081 sha256=6003e3e9fe0eeb6d646709722ccd02a7b27321933ab9e179d691c433b09e6059\n",
            "  Stored in directory: /root/.cache/pip/wheels/dd/91/29/a79cecb328d01739e64017b6fb9a1ab9d8cb1853098ec5966d\n",
            "Successfully built htmlmin\n",
            "Installing collected packages: htmlmin, typeguard, tangled-up-in-unicode, multimethod, dacite, imagehash, visions, phik, ydata_profiling\n",
            "Successfully installed dacite-1.8.1 htmlmin-0.1.12 imagehash-4.3.1 multimethod-1.10 phik-0.12.3 tangled-up-in-unicode-0.2.0 typeguard-2.13.3 visions-0.7.5 ydata_profiling-4.5.1\n",
            "<bound method NDFrame.head of      age  sex  cp  trtbps  chol  fbs  restecg  thalachh  exng  oldpeak  slp  \\\n",
            "0     63    1   3     145   233    1        0       150     0      2.3    0   \n",
            "1     37    1   2     130   250    0        1       187     0      3.5    0   \n",
            "2     41    0   1     130   204    0        0       172     0      1.4    2   \n",
            "3     56    1   1     120   236    0        1       178     0      0.8    2   \n",
            "4     57    0   0     120   354    0        1       163     1      0.6    2   \n",
            "..   ...  ...  ..     ...   ...  ...      ...       ...   ...      ...  ...   \n",
            "298   57    0   0     140   241    0        1       123     1      0.2    1   \n",
            "299   45    1   3     110   264    0        1       132     0      1.2    1   \n",
            "300   68    1   0     144   193    1        1       141     0      3.4    1   \n",
            "301   57    1   0     130   131    0        1       115     1      1.2    1   \n",
            "302   57    0   1     130   236    0        0       174     0      0.0    1   \n",
            "\n",
            "     caa  thall  output  \n",
            "0      0      1       1  \n",
            "1      0      2       1  \n",
            "2      0      2       1  \n",
            "3      0      2       1  \n",
            "4      0      2       1  \n",
            "..   ...    ...     ...  \n",
            "298    0      3       0  \n",
            "299    0      3       0  \n",
            "300    2      3       0  \n",
            "301    1      3       0  \n",
            "302    1      2       0  \n",
            "\n",
            "[303 rows x 14 columns]>\n",
            "\n",
            "Index(['age', 'sex', 'cp', 'trtbps', 'chol', 'fbs', 'restecg', 'thalachh',\n",
            "       'exng', 'oldpeak', 'slp', 'caa', 'thall', 'output'],\n",
            "      dtype='object')\n",
            "\n",
            "nombre caracteristicas\n",
            "\n",
            "Tipo de datos\n",
            "age           int64\n",
            "sex           int64\n",
            "cp            int64\n",
            "trtbps        int64\n",
            "chol          int64\n",
            "fbs           int64\n",
            "restecg       int64\n",
            "thalachh      int64\n",
            "exng          int64\n",
            "oldpeak     float64\n",
            "slp           int64\n",
            "caa           int64\n",
            "thall         int64\n",
            "output        int64\n",
            "dtype: object\n"
          ]
        }
      ]
    },
    {
      "cell_type": "markdown",
      "source": [
        "#Test chi cuadrado\n"
      ],
      "metadata": {
        "id": "DbtuT_BWub56"
      }
    },
    {
      "cell_type": "markdown",
      "source": [
        " Para determinar si dos variables categóricas o nominales pueden estar o no relacionadas.\n",
        "\n",
        " H0) Las variables sno independientes.\n",
        "\n",
        " H1) Las variables no son independientes."
      ],
      "metadata": {
        "id": "m69tCCJYG5v9"
      }
    },
    {
      "cell_type": "code",
      "source": [
        "import numpy as np\n",
        "import pandas as pd\n",
        "from scipy.stats import chi2_contingency\n",
        "import seaborn as sns\n",
        "import matplotlib.pyplot as plt\n",
        "from statsmodels.graphics.mosaicplot import mosaic\n",
        "\n",
        "#contamos la cant de hombres y mujeres, tomando como 1 y 0 respectivamente, con y sin diagnostico\n",
        "hombres_con = df[(df['sex'] == 1) & (df['output'] == 1)]['output'].count()\n",
        "hombres_sin = df[(df['sex'] == 1) & (df['output'] == 0)]['output'].count()\n",
        "mujeres_con = df[(df['sex'] == 0) & (df['output'] == 1)]['output'].count()\n",
        "mujeres_sin = df[(df['sex'] == 0) & (df['output'] == 0)]['output'].count()\n",
        "\n",
        "#Ver si los datos tienen más de cinco conteos en cada combinación\n",
        "#print(hombres_con_enfermedad, hombres_sin_enfermedad,mujeres_con_enfermedad, mujeres_sin_enfermedad)\n",
        "#tabla de contingencia\n",
        "data = np.array([[hombres_con, hombres_sin],\n",
        "                 [mujeres_con, mujeres_sin]])\n",
        "print (data)\n",
        "\n",
        "#prueba de chi-cuadrado, nos calcula los valores esperados para cada combinación\n",
        "chi2, p, _, _ = chi2_contingency(data)\n",
        "\n",
        "print(f\"Estadístico de chi-cuadrado: {chi2}\")\n",
        "print(f\"Valor p: {p}\")\n",
        "\n",
        "#Prueba (nivel de significancia de 0.05)\n",
        "if p < 0.05:\n",
        "    print(\"En base a la evidencia muestral la asociación es significativa\\\n",
        "    entre sexo del paciente y el diagnostico.\")\n",
        "else:\n",
        "    print(\"No hay evidencia significativa de asociación.\")\n",
        "\n",
        "#relacion entre tipo de dolor y output\n",
        "#tabla de contingencia entre \"cp\" y \"output\"\n",
        "tabla_contingencia = pd.crosstab(df['cp'], df['output'])\n",
        "print (tabla_contingencia)\n",
        "# Realizar la prueba de chi-cuadrado\n",
        "chi2, p, _, _ = chi2_contingency(tabla_contingencia)\n",
        "\n",
        "print(f\"Estadístico de chi-cuadrado: {chi2}\")\n",
        "print(f\"Valor p: {p}\")\n",
        "\n",
        "#Prueba\n",
        "if p < 0.05:\n",
        "    print(\"En base a la evidencia muestral la asociación entre\\\n",
        "    el tipo de dolor y el diagnostico del paciente es significativa.\")\n",
        "else:\n",
        "    print(\"No hay evidencia significativa\")\n",
        "\n",
        "#La variables sexo y tipo de dolor\n",
        "tabla = pd.crosstab(df['sex'], df['cp'])\n",
        "\n",
        "# Realizar la prueba de chi-cuadrado\n",
        "chi2, p, _, _ = chi2_contingency(tabla)\n",
        "\n",
        "# Imprimir los resultados\n",
        "print(f\"Estadístico de chi-cuadrado: {chi2}\")\n",
        "print(f\"Valor p: {p}\")\n",
        "\n",
        "#Prueba\n",
        "if p < 0.05:\n",
        "    print(\"La asociación entre es significativa.\")\n",
        "else:\n",
        "    print(\"No hay evidencia significativa de asociación entre el sexo y tipo de dolor.\")"
      ],
      "metadata": {
        "colab": {
          "base_uri": "https://localhost:8080/"
        },
        "id": "gCyLXloXun-S",
        "outputId": "fc139491-3054-47bc-a8cd-b60d2f7041fd"
      },
      "execution_count": 5,
      "outputs": [
        {
          "output_type": "stream",
          "name": "stdout",
          "text": [
            "[[ 93 114]\n",
            " [ 72  24]]\n",
            "Estadístico de chi-cuadrado: 22.717227046576355\n",
            "Valor p: 1.8767776216941503e-06\n",
            "En base a la evidencia muestral la asociación es significativa    entre sexo del paciente y el diagnostico.\n",
            "output    0   1\n",
            "cp             \n",
            "0       104  39\n",
            "1         9  41\n",
            "2        18  69\n",
            "3         7  16\n",
            "Estadístico de chi-cuadrado: 81.68642755194445\n",
            "Valor p: 1.3343043373050064e-17\n",
            "En base a la evidencia muestral la asociación entre    el tipo de dolor y el diagnostico del paciente es significativa.\n",
            "Estadístico de chi-cuadrado: 6.822075813213287\n",
            "Valor p: 0.07779031388551413\n",
            "No hay evidencia significativa de asociación entre el sexo y tipo de dolor.\n"
          ]
        }
      ]
    },
    {
      "cell_type": "code",
      "source": [
        "#gráfico de barras apiladas\n",
        "sns.countplot(x='cp', hue='output', data=df)\n",
        "plt.title('Enfermedad Cardíaca por Tipo de Dolor en el Pecho')\n",
        "plt.xlabel('Tipo de Dolor en el Pecho')\n",
        "plt.show()\n"
      ],
      "metadata": {
        "colab": {
          "base_uri": "https://localhost:8080/",
          "height": 472
        },
        "id": "LInsrthHA5Bq",
        "outputId": "0bfb23c5-e450-4e7d-c659-d85ccac36811"
      },
      "execution_count": 6,
      "outputs": [
        {
          "output_type": "display_data",
          "data": {
            "text/plain": [
              "<Figure size 640x480 with 1 Axes>"
            ],
            "image/png": "[encoded data removed]"
          },
          "metadata": {}
        }
      ]
    },
    {
      "cell_type": "markdown",
      "source": [
        "#Test t-studen"
      ],
      "metadata": {
        "id": "OQiKpkX5FGrM"
      }
    },
    {
      "cell_type": "markdown",
      "source": [
        "Para determinar si hay diferencias significativas en las variables numéricas y grupos de variables categoricas"
      ],
      "metadata": {
        "id": "PwZd1NeTNR8g"
      }
    },
    {
      "cell_type": "code",
      "source": [
        "#diferencias presión arterial en reposo) entre los diferentes generos\n",
        "#Separaro los datos de presión arterial para hombres y mujeres\n",
        "presion_hombres = df[df['sex'] == 1]['trtbps']\n",
        "presion_mujeres = df[df['sex'] == 0]['trtbps']\n",
        "\n",
        "#t de Student para dos muestras independientes\n",
        "t_stat, p_valor = stats.ttest_ind(presion_hombres, presion_mujeres)\n",
        "\n",
        "\n",
        "print(f\"Estadístico t: {t_stat}\")\n",
        "print(f\"Valor p: {p_valor}\")\n",
        "\n",
        "#Prueba\n",
        "if p_valor < 0.05:\n",
        "    print(\"Hay una diferencia significativa en la presión arterial en reposo entre hombres y mujeres.\")\n",
        "else:\n",
        "    print(\"No hay evidencia significativa de diferencia en la presión arterial en reposo entre hombres y mujeres.\")\n",
        "\n",
        "\n",
        "#diferencias de colesterol entre los diferentes generos\n",
        "#Separarolos datos de colesterol para hombres y mujeres\n",
        "presion_hombres = df[df['sex'] == 1]['chol']\n",
        "presion_mujeres = df[df['sex'] == 0]['chol']\n",
        "\n",
        "#t de Student para dos muestras independientes\n",
        "t_stat, p_valor = stats.ttest_ind(presion_hombres, presion_mujeres)\n",
        "\n",
        "print(f\"Estadístico t: {t_stat}\")\n",
        "print(f\"Valor p: {p_valor}\")\n",
        "\n",
        "# Prueba\n",
        "if p_valor < 0.05:\n",
        "    print(\"Hay una diferencia significativa en el colesterol entre hombres y mujeres.\")\n",
        "else:\n",
        "    print(\"No hay evidencia significativa de diferencia en el colesterol entre hombres y mujeres.\")\n",
        "\n",
        "#boxplot entre colesterol y género\n",
        "plt.figure(figsize=(8, 6))\n",
        "sns.boxplot(x='sex', y='chol', data=df)\n",
        "plt.xlabel('Sexo')\n",
        "plt.ylabel('Colesterol (mg/dl)')\n",
        "plt.xticks([0, 1], ['Hombres', 'Mujeres'])\n",
        "plt.title('Distribución de Colesterol por Género')\n",
        "plt.show()"
      ],
      "metadata": {
        "colab": {
          "base_uri": "https://localhost:8080/",
          "height": 675
        },
        "id": "rIC5A8cJFDZt",
        "outputId": "003bf785-1cd1-41af-fb34-a726e6360e04"
      },
      "execution_count": 7,
      "outputs": [
        {
          "output_type": "stream",
          "name": "stdout",
          "text": [
            "Estadístico t: -0.9864931536208362\n",
            "Valor p: 0.3246834797221042\n",
            "No hay evidencia significativa de diferencia en la presión arterial en reposo entre hombres y mujeres.\n",
            "Estadístico t: -3.5029368327219244\n",
            "Valor p: 0.000529966610622664\n",
            "Hay una diferencia significativa en el colesterol entre hombres y mujeres.\n"
          ]
        },
        {
          "output_type": "display_data",
          "data": {
            "text/plain": [
              "<Figure size 800x600 with 1 Axes>"
            ],
            "image/png": "[encoded data removed]"
          },
          "metadata": {}
        }
      ]
    },
    {
      "cell_type": "code",
      "source": [
        "\n"
      ],
      "metadata": {
        "id": "98eAeILWCfz3"
      },
      "execution_count": 8,
      "outputs": []
    }
  ]
}